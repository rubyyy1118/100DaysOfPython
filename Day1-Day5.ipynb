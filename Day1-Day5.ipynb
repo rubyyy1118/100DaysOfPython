{
 "cells": [
  {
   "cell_type": "code",
   "execution_count": 1,
   "metadata": {},
   "outputs": [
    {
     "name": "stdout",
     "output_type": "stream",
     "text": [
      "Welcome to the Band Name Generator!\n",
      "What's name of the city you grew up in?\n",
      "Taipei\n",
      "What's your pet's name?\n",
      "Haru\n",
      "Your band name is: Taipei Haru\n"
     ]
    }
   ],
   "source": [
    "#Day1 band name generator\n",
    "#https://band-name-generator-end.appbrewery.repl.run/\n",
    "\n",
    "print(\"Welcome to the Band Name Generator!\")\n",
    "city = input(\"What's name of the city you grew up in?\\n\")\n",
    "pet = input(\"What's your pet's name?\\n\")\n",
    "print(\"Your band name is: \"+city+\" \"+pet)"
   ]
  },
  {
   "cell_type": "code",
   "execution_count": 3,
   "metadata": {},
   "outputs": [
    {
     "name": "stdout",
     "output_type": "stream",
     "text": [
      "What is your current age?\n",
      "22\n",
      "You have 24820 days, 3536 weeks, and 816 months left.\n"
     ]
    }
   ],
   "source": [
    "#Day2 Your Life in Weeks \n",
    "#https://replit.com/@appbrewery/day-2-3-exercise#README.md\n",
    "\n",
    "age = input(\"What is your current age?\\n\")\n",
    "\n",
    "year = 90 - int(age)\n",
    "age_d = int(year)*365\n",
    "age_w = int(year)*52\n",
    "age_m = int(year)*12\n",
    "\n",
    "print(f\"You have {age_d} days, {age_w} weeks, and {age_m} months left.\")"
   ]
  },
  {
   "cell_type": "code",
   "execution_count": 3,
   "metadata": {},
   "outputs": [
    {
     "name": "stdout",
     "output_type": "stream",
     "text": [
      "Welcome to the tip calculator.\n",
      "what was the total bill? $100\n",
      "What percentage tip would you like to give? 10, 12, or 15? 10\n",
      "How many people to split the bill?2\n",
      "Each person should pay: $55.0\n"
     ]
    }
   ],
   "source": [
    "#Day2 Tip Calculator\n",
    "#If the bill was $150.00, split between 5 people, with 12% tip. \n",
    "#Each person should pay (150.00 / 5) * 1.12 = 33.6\n",
    "#Format the result to 2 decimal places = 33.60\n",
    "\n",
    "print(\"Welcome to the tip calculator.\")\n",
    "dollar =float(input(\"what was the total bill? $\"))\n",
    "tip = int(input(\"What percentage tip would you like to give? 10, 12, or 15? \"))\n",
    "people = int(input(\"How many people to split the bill?\"))\n",
    "split = round(dollar/people*(1+tip/100),2)\n",
    "print(f\"Each person should pay: ${split}\")"
   ]
  },
  {
   "cell_type": "code",
   "execution_count": 1,
   "metadata": {},
   "outputs": [
    {
     "name": "stdout",
     "output_type": "stream",
     "text": [
      "enter your height in m: 1.6\n",
      "enter your weight in kg: 55\n",
      "Your BMI is 21 , you are a normal weight.\n"
     ]
    }
   ],
   "source": [
    "#Day3 BMI Calculator 2.0\n",
    "#https://replit.com/@appbrewery/day-3-2-exercise#README.md\n",
    "\n",
    "\n",
    "height = float(input(\"enter your height in m: \"))\n",
    "weight = float(input(\"enter your weight in kg: \"))\n",
    "bmi = weight/(height**2)\n",
    "\n",
    "if bmi <= 18.5:\n",
    "  print(f\"Your BMI is {round(bmi)} , you are underweight.\")\n",
    "elif 18.5 <= bmi < 25:\n",
    "  print(f\"Your BMI is {round(bmi)} , you are a normal weight.\")\n",
    "elif 25<= bmi < 30:\n",
    "  print(f\"Your BMI is {round(bmi)} , you are slightly overweight.\")\n",
    "elif 30 <= bmi <35:\n",
    "  print(f\"Your BMI is {round(bmi)} , you are obese.\")\n",
    "else:\n",
    "  print(f\"Your BMI is {round(bmi)} , you are clinically obese.\")"
   ]
  },
  {
   "cell_type": "code",
   "execution_count": 3,
   "metadata": {},
   "outputs": [
    {
     "name": "stdout",
     "output_type": "stream",
     "text": [
      "Which year do you want to check? 2020\n",
      "Leap year.\n"
     ]
    }
   ],
   "source": [
    "#Day3 Leap Year Calculation\n",
    "\n",
    "year = int(input(\"Which year do you want to check? \"))\n",
    "\n",
    "if year % 4 == 0 :\n",
    "  if year % 100 == 0:\n",
    "    if year % 400 == 0:\n",
    "      print (\"Leap year.\")\n",
    "    else:\n",
    "      print(\"Not leap year.\") \n",
    "  else:\n",
    "    print(\"Leap year.\")\n",
    "else:\n",
    "  print(\"Not leap year.\")"
   ]
  },
  {
   "cell_type": "code",
   "execution_count": 5,
   "metadata": {},
   "outputs": [
    {
     "name": "stdout",
     "output_type": "stream",
     "text": [
      "Welcome to the Love Calculator!\n",
      "What is your name? \n",
      "Ruby\n",
      "What is their name? \n",
      "Allen\n",
      "Your score is 33.\n"
     ]
    }
   ],
   "source": [
    "#Day3 Love Calculator\n",
    "#https://replit.com/@appbrewery/day-3-5-exercise#README.md\n",
    "\n",
    "print(\"Welcome to the Love Calculator!\")\n",
    "\n",
    "name1 = input(\"What is your name? \\n\")\n",
    "name2 = input(\"What is their name? \\n\")\n",
    "\n",
    "combined_string = name1 + name2\n",
    "\n",
    "combined_string_lower= combined_string.lower()\n",
    "\n",
    "count_T = combined_string_lower.count(\"t\")\n",
    "count_R = combined_string_lower.count(\"r\")\n",
    "count_U = combined_string_lower.count(\"u\")\n",
    "count_E = combined_string_lower.count(\"e\")\n",
    "\n",
    "count_L = combined_string_lower.count(\"l\")\n",
    "count_O = combined_string_lower.count(\"o\")\n",
    "count_V = combined_string_lower.count(\"v\")\n",
    "count_E_1 = combined_string_lower.count(\"e\")\n",
    "\n",
    "total_TRUE = count_T + count_R + count_U + count_E\n",
    "total_LOVE = count_L + count_O + count_V + count_E_1\n",
    "\n",
    "Love_Score0 = str(total_TRUE) + str(total_LOVE)\n",
    "\n",
    "Love_Score = int(Love_Score0)\n",
    "\n",
    "if Love_Score < 10 or Love_Score > 90:\n",
    "  print(f\"Your score is {Love_Score}, you go together like coke and mentos.\")\n",
    "elif 40 <= Love_Score <= 50:\n",
    "  print(f\"Your score is {Love_Score}, you are alright together.\")\n",
    "else:\n",
    "  print(f\"Your score is {Love_Score}.\")"
   ]
  },
  {
   "cell_type": "code",
   "execution_count": 6,
   "metadata": {},
   "outputs": [
    {
     "name": "stdout",
     "output_type": "stream",
     "text": [
      "\n",
      "*******************************************************************************\n",
      "          |                   |                  |                     |\n",
      " _________|________________.=\"\"_;=.______________|_____________________|_______\n",
      "|                   |  ,-\"_,=\"\"     `\"=.|                  |\n",
      "|___________________|__\"=._o`\"-._        `\"=.______________|___________________\n",
      "          |                `\"=._o`\"=._      _`\"=._                     |\n",
      " _________|_____________________:=._o \"=._.\"_.-=\"'\"=.__________________|_______\n",
      "|                   |    __.--\" , ; `\"=._o.\" ,-\"\"\"-._ \".   |\n",
      "|___________________|_._\"  ,. .` ` `` ,  `\"-._\"-._   \". '__|___________________\n",
      "          |           |o`\"=._` , \"` `; .\". ,  \"-._\"-._; ;              |\n",
      " _________|___________| ;`-.o`\"=._; .\" ` '`.\"\\` . \"-._ /_______________|_______\n",
      "|                   | |o;    `\"-.o`\"=._``  '` \" ,__.--o;   |\n",
      "|___________________|_| ;     (#) `-.o `\"=.`_.--\"_o.-; ;___|___________________\n",
      "____/______/______/___|o;._    \"      `\".o|o_.--\"    ;o;____/______/______/____\n",
      "/______/______/______/_\"=._o--._        ; | ;        ; ;/______/______/______/_\n",
      "____/______/______/______/__\"=._o--._   ;o|o;     _._;o;____/______/______/____\n",
      "/______/______/______/______/____\"=._o._; | ;_.--\"o.--\"_/______/______/______/_\n",
      "____/______/______/______/______/_____\"=.o|o_.--\"\"___/______/______/______/____\n",
      "/______/______/______/______/______/______/______/______/______/______/_____ /\n",
      "*******************************************************************************\n",
      "\n",
      "Welcome to Treasure Island.\n",
      "Your mission is to find the treasure.\n",
      "You're at a cross road. Where do you want to go? Type \"left\" or \"right\"\n",
      "left\n",
      "You've come to a lake. There is an island in the middle of the lake. Type \"wait\" to wait for a boat. Type \"swim\" to swim across.\n",
      "wait\n",
      "You arrive at the island unharmed. There is a house with 3 doors. One red, one yellow and one blue. Which colour do you choose?\n",
      "yellow\n",
      "You found the treasure! You win!!!\n"
     ]
    }
   ],
   "source": [
    "#Day3 Treasure Island\n",
    "\n",
    "print('''\n",
    "*******************************************************************************\n",
    "          |                   |                  |                     |\n",
    " _________|________________.=\"\"_;=.______________|_____________________|_______\n",
    "|                   |  ,-\"_,=\"\"     `\"=.|                  |\n",
    "|___________________|__\"=._o`\"-._        `\"=.______________|___________________\n",
    "          |                `\"=._o`\"=._      _`\"=._                     |\n",
    " _________|_____________________:=._o \"=._.\"_.-=\"'\"=.__________________|_______\n",
    "|                   |    __.--\" , ; `\"=._o.\" ,-\"\"\"-._ \".   |\n",
    "|___________________|_._\"  ,. .` ` `` ,  `\"-._\"-._   \". '__|___________________\n",
    "          |           |o`\"=._` , \"` `; .\". ,  \"-._\"-._; ;              |\n",
    " _________|___________| ;`-.o`\"=._; .\" ` '`.\"\\` . \"-._ /_______________|_______\n",
    "|                   | |o;    `\"-.o`\"=._``  '` \" ,__.--o;   |\n",
    "|___________________|_| ;     (#) `-.o `\"=.`_.--\"_o.-; ;___|___________________\n",
    "____/______/______/___|o;._    \"      `\".o|o_.--\"    ;o;____/______/______/____\n",
    "/______/______/______/_\"=._o--._        ; | ;        ; ;/______/______/______/_\n",
    "____/______/______/______/__\"=._o--._   ;o|o;     _._;o;____/______/______/____\n",
    "/______/______/______/______/____\"=._o._; | ;_.--\"o.--\"_/______/______/______/_\n",
    "____/______/______/______/______/_____\"=.o|o_.--\"\"___/______/______/______/____\n",
    "/______/______/______/______/______/______/______/______/______/______/_____ /\n",
    "*******************************************************************************\n",
    "''')\n",
    "print(\"Welcome to Treasure Island.\")\n",
    "print(\"Your mission is to find the treasure.\") \n",
    "\n",
    "\n",
    "direction = input('You\\'re at a cross road. Where do you want to go? Type \"left\" or \"right\"\\n').lower() #大小寫支援\n",
    "if direction == \"left\":\n",
    "  behavior = input('You\\'ve come to a lake. There is an island in the middle of the lake. Type \"wait\" to wait for a boat. Type \"swim\" to swim across.\\n').lower() #大小寫支援\n",
    "  if behavior == \"wait\":\n",
    "    color = input('You arrive at the island unharmed. There is a house with 3 doors. One red, one yellow and one blue. Which colour do you choose?\\n').lower() #大小寫支援\n",
    "    if color == \"yellow\":\n",
    "      print(\"You found the treasure! You win!!!\")\n",
    "    elif color == \"blue\":\n",
    "      print(\"You enter a room of beasts. Game Over.\")\n",
    "    else:\n",
    "      print(\"Game Over!!!!!!\")\n",
    "  else:\n",
    "    print(\"You got attacked by trout. Game Over.\")\n",
    "else:\n",
    "  print(\"You fell into a whole. Game Over.\")"
   ]
  },
  {
   "cell_type": "code",
   "execution_count": 7,
   "metadata": {},
   "outputs": [
    {
     "name": "stdout",
     "output_type": "stream",
     "text": [
      "['⬜️', '⬜️', '⬜️']\n",
      "['⬜️', '⬜️', '⬜️']\n",
      "['⬜️', '⬜️', '⬜️']\n",
      "Where do you want to put the treasure? 23\n",
      "['⬜️', '⬜️', '⬜️']\n",
      "['⬜️', '⬜️', '⬜️']\n",
      "['⬜️', 'X', '⬜️']\n"
     ]
    }
   ],
   "source": [
    "#Day4 Treasure Map\n",
    "#https://replit.com/@appbrewery/day-4-3-exercise#README.md\n",
    "\n",
    "row1 = [\"⬜️\",\"⬜️\",\"⬜️\"]\n",
    "row2 = [\"⬜️\",\"⬜️\",\"⬜️\"]\n",
    "row3 = [\"⬜️\",\"⬜️\",\"⬜️\"]\n",
    "map = [row1, row2, row3]\n",
    "print(f\"{row1}\\n{row2}\\n{row3}\")\n",
    "position = input(\"Where do you want to put the treasure? \")\n",
    "\n",
    "column = int(position[0])\n",
    "row = int(position[1])\n",
    "\n",
    "selected_row = map[row - 1]\n",
    "selected_row[column - 1] = \"X\"\n",
    "#or you can do like this\n",
    "#map[column-1][row-1] = \"X\"\n",
    "\n",
    "print(f\"{row1}\\n{row2}\\n{row3}\")"
   ]
  },
  {
   "cell_type": "code",
   "execution_count": 23,
   "metadata": {},
   "outputs": [
    {
     "name": "stdout",
     "output_type": "stream",
     "text": [
      "What do you choose? Type 0 for Rock, 1 for Paper or 2 for Scissors.\n",
      "1\n",
      "\n",
      "    _______\n",
      "---'   ____)____\n",
      "          ______)\n",
      "          _______)\n",
      "         _______)\n",
      "---.__________)\n",
      "\n",
      "Computer chose:\n",
      "\n",
      "    _______\n",
      "---'   ____)\n",
      "      (_____)\n",
      "      (_____)\n",
      "      (____)\n",
      "---.__(___)\n",
      "\n",
      "You win.\n"
     ]
    }
   ],
   "source": [
    "#Day4 Rock-Paper-Scissors\n",
    "\n",
    "number = int(input(\"What do you choose? Type 0 for Rock, 1 for Paper or 2 for Scissors.\\n\"))\n",
    "\n",
    "rock = '''\n",
    "    _______\n",
    "---'   ____)\n",
    "      (_____)\n",
    "      (_____)\n",
    "      (____)\n",
    "---.__(___)\n",
    "'''\n",
    "\n",
    "paper = '''\n",
    "    _______\n",
    "---'   ____)____\n",
    "          ______)\n",
    "          _______)\n",
    "         _______)\n",
    "---.__________)\n",
    "'''\n",
    "\n",
    "scissors = '''\n",
    "    _______\n",
    "---'   ____)____\n",
    "          ______)\n",
    "       __________)\n",
    "      (____)\n",
    "---.__(___)\n",
    "'''\n",
    "\n",
    "if number == 0:\n",
    "  print(rock)\n",
    "elif number == 1:\n",
    "  print(paper)\n",
    "elif number ==2:\n",
    "  print(scissors)\n",
    "else:\n",
    "  print(\"You typed an invalid number ,you lose!\")\n",
    "print(\"Computer chose:\")\n",
    "import random\n",
    "computer = random.randint(0,2)\n",
    "if computer == 0:\n",
    "  print(rock)\n",
    "elif computer == 1:\n",
    "  print(paper)\n",
    "else:\n",
    "  print(scissors)\n",
    "\n",
    "if number == 0:\n",
    "  if computer == 1:\n",
    "    print(\"You lose.\")\n",
    "  if computer == 2:\n",
    "    print(\"You win.\")\n",
    "  elif computer == 0 :\n",
    "    print(\"It's a draw.\")\n",
    "\n",
    "if number == 1:\n",
    "  if computer == 2:\n",
    "    print(\"You lose.\")\n",
    "  if computer == 0:\n",
    "    print(\"You win.\")\n",
    "  elif computer == 1 :\n",
    "    print(\"It's a draw.\")\n",
    "\n",
    "\n",
    "if number == 2:\n",
    "  if computer == 0:\n",
    "    print(\"You lose.\")\n",
    "  if computer == 1:\n",
    "    print(\"You win.\")\n",
    "  elif computer == 2:\n",
    "    print(\"It's a draw.\")"
   ]
  },
  {
   "cell_type": "code",
   "execution_count": 24,
   "metadata": {},
   "outputs": [
    {
     "name": "stdout",
     "output_type": "stream",
     "text": [
      "Welcome to the PyPassword Generator!\n",
      "How many letters would you like in your password?\n",
      "2\n",
      "How many symbols would you like?\n",
      "3\n",
      "How many numbers would you like?\n",
      "4\n",
      "Here is your password: 8&4*h7)D3\n"
     ]
    }
   ],
   "source": [
    "#Day5 Password Generator\n",
    "\n",
    "#Password Generator Project\n",
    "import random\n",
    "letters = ['a', 'b', 'c', 'd', 'e', 'f', 'g', 'h', 'i', 'j', 'k', 'l', 'm', 'n', 'o', 'p', 'q', 'r', 's', 't', 'u', 'v', 'w', 'x', 'y', 'z', 'A', 'B', 'C', 'D', 'E', 'F', 'G', 'H', 'I', 'J', 'K', 'L', 'M', 'N', 'O', 'P', 'Q', 'R', 'S', 'T', 'U', 'V', 'W', 'X', 'Y', 'Z']\n",
    "numbers = ['0', '1', '2', '3', '4', '5', '6', '7', '8', '9']\n",
    "symbols = ['!', '#', '$', '%', '&', '(', ')', '*', '+']\n",
    "\n",
    "print(\"Welcome to the PyPassword Generator!\")\n",
    "nr_letters= int(input(\"How many letters would you like in your password?\\n\")) \n",
    "nr_symbols = int(input(f\"How many symbols would you like?\\n\"))\n",
    "nr_numbers = int(input(f\"How many numbers would you like?\\n\"))\n",
    "\n",
    "#Eazy Level - Order not randomised:\n",
    "#e.g. 4 letter, 2 symbol, 2 number = JduE&!91\n",
    "# password = \"\"\n",
    "# for character in range(1, nr_letters+1):\n",
    "#   password += random.choice(letters)\n",
    "# for number in range(1,nr_numbers+1):\n",
    "#   password += random.choice(numbers)\n",
    "# for symbol in range (1,nr_symbols+1):\n",
    "#   password += random.choice(symbols)\n",
    "\n",
    "# print(\"Here is your password: \" + password)\n",
    "\n",
    "#Hard Level - Order of characters randomised:\n",
    "#e.g. 4 letter, 2 symbol, 2 number = g^2jk8&P\n",
    "password_list = []\n",
    "for character in range(1, nr_letters+1):\n",
    "  password_list.append(random.choice(letters))\n",
    "for number in range(1,nr_numbers+1):\n",
    "  password_list.append(random.choice(numbers))\n",
    "for symbol in range (1,nr_symbols+1):\n",
    "  password_list.append(random.choice(symbols))\n",
    "\n",
    "random.shuffle(password_list)\n",
    "\n",
    "password = \"\"\n",
    "for char in password_list:\n",
    "  password += char\n",
    "\n",
    "print(\"Here is your password: \" + password)\n",
    "\n",
    "\n"
   ]
  }
 ],
 "metadata": {
  "kernelspec": {
   "display_name": "Python 3",
   "language": "python",
   "name": "python3"
  },
  "language_info": {
   "codemirror_mode": {
    "name": "ipython",
    "version": 3
   },
   "file_extension": ".py",
   "mimetype": "text/x-python",
   "name": "python",
   "nbconvert_exporter": "python",
   "pygments_lexer": "ipython3",
   "version": "3.8.5"
  }
 },
 "nbformat": 4,
 "nbformat_minor": 4
}
